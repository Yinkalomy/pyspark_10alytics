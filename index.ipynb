{
 "cells": [
  {
   "cell_type": "code",
   "execution_count": 6,
   "outputs": [
    {
     "name": "stdout",
     "output_type": "stream",
     "text": [
      "Collecting pyspark\r\n",
      "  Using cached pyspark-3.4.1.tar.gz (310.8 MB)\r\n",
      "  Preparing metadata (setup.py) ... \u001B[?25ldone\r\n",
      "\u001B[?25hCollecting py4j==0.10.9.7\r\n",
      "  Using cached py4j-0.10.9.7-py2.py3-none-any.whl (200 kB)\r\n",
      "Building wheels for collected packages: pyspark\r\n",
      "  Building wheel for pyspark (setup.py) ... \u001B[?25ldone\r\n",
      "\u001B[?25h  Created wheel for pyspark: filename=pyspark-3.4.1-py2.py3-none-any.whl size=311285397 sha256=4cb9d712197667e7447d716c60bcea59aed6b9de0be5e1053d69fb1f59a52e34\r\n",
      "  Stored in directory: /Users/yinka/Library/Caches/pip/wheels/2b/9a/39/d8019ffbfb76a39433455e3d5799e94d3e3cae8f41229f6bf8\r\n",
      "Successfully built pyspark\r\n",
      "Installing collected packages: py4j, pyspark\r\n",
      "Successfully installed py4j-0.10.9.7 pyspark-3.4.1\r\n"
     ]
    }
   ],
   "source": [
    "!pip3 install pyspark"
   ],
   "metadata": {
    "collapsed": false,
    "ExecuteTime": {
     "end_time": "2023-09-07T13:08:36.228270Z",
     "start_time": "2023-09-07T13:08:02.635783Z"
    }
   }
  },
  {
   "cell_type": "code",
   "execution_count": 2,
   "metadata": {
    "collapsed": true,
    "ExecuteTime": {
     "end_time": "2023-09-09T14:21:48.540351Z",
     "start_time": "2023-09-09T14:21:42.669168Z"
    }
   },
   "outputs": [
    {
     "name": "stderr",
     "output_type": "stream",
     "text": [
      "23/09/09 08:21:45 WARN Utils: Your hostname, Yinkas-MacBook-Pro.local resolves to a loopback address: 127.0.0.1; using 10.0.0.51 instead (on interface en0)\n",
      "23/09/09 08:21:45 WARN Utils: Set SPARK_LOCAL_IP if you need to bind to another address\n",
      "Setting default log level to \"WARN\".\n",
      "To adjust logging level use sc.setLogLevel(newLevel). For SparkR, use setLogLevel(newLevel).\n",
      "23/09/09 08:21:46 WARN NativeCodeLoader: Unable to load native-hadoop library for your platform... using builtin-java classes where applicable\n",
      "23/09/09 08:21:47 WARN Utils: Service 'SparkUI' could not bind on port 4040. Attempting port 4041.\n"
     ]
    }
   ],
   "source": [
    "from pyspark.sql import SparkSession\n",
    "\n",
    "spark = SparkSession.builder.appName('NewManager').getOrCreate()"
   ]
  },
  {
   "cell_type": "markdown",
   "source": [
    "# understand the dataset"
   ],
   "metadata": {
    "collapsed": false
   }
  },
  {
   "cell_type": "code",
   "execution_count": 3,
   "outputs": [],
   "source": [
    "#reading from the text file\n",
    "log_df = spark.read.csv('log.txt', sep='|', inferSchema=True)"
   ],
   "metadata": {
    "collapsed": false,
    "ExecuteTime": {
     "end_time": "2023-09-09T14:22:04.736060Z",
     "start_time": "2023-09-09T14:21:57.771388Z"
    }
   }
  },
  {
   "cell_type": "code",
   "execution_count": 4,
   "outputs": [
    {
     "name": "stdout",
     "output_type": "stream",
     "text": [
      "+--------------------+-------+-----------+--------------------+-------------+--------------------+\n",
      "|                 _c0|    _c1|        _c2|                 _c3|          _c4|                 _c5|\n",
      "+--------------------+-------+-----------+--------------------+-------------+--------------------+\n",
      "|Data quality assu...|success|89328463487|         Florida;USA|1599093305000|464f:bdbd:1d:535a...|\n",
      "|Designing and imp...|success|89328463488|      Ontario;Canada|1589218599000|1366:c314:8d40:42...|\n",
      "|Extracting data f...|success|89328463489|      California;USA|1595463446000|1ffa:cdd1:7a2b:a7...|\n",
      "|Loading data into...|success|89328463490|         Florida;USA|1605932487000|8ac5:9010:f24c:2f...|\n",
      "|Data quality assu...|success|89328463491|Queensland;Australia|1587354266000|5a7d:18ec:4650:54...|\n",
      "|Building data pip...|success|89328463492|        Paris;France|1600093768000|1480:2795:2b3a:42...|\n",
      "|Optimizing databa...|      -|89328463493|         Tokyo;Japan|1596900215000|7f2b:df86:5279:68...|\n",
      "|Data quality assu...|success|89328463494|        Paris;France|1605052256000|805a:a9ff:45ca:76...|\n",
      "|Optimizing databa...|success|89328463495|Queensland;Australia|1594313425000|25d3:9eb2:8066:4c...|\n",
      "|     Data governance|success|89328463496|Queensland;Australia|1597993211000|f57b:4c0e:26c9:f0...|\n",
      "|Building data pip...|success|89328463497|      California;USA|1602042464000|46fd:b891:e726:4f...|\n",
      "|Transforming data...|success|89328463498|         Florida;USA|1590200468000|8755:3c70:4da:ad2...|\n",
      "|Loading data into...|success|89328463499|           Texas;USA|1602613627000|4a73:ce86:e05b:48...|\n",
      "|Loading data into...|success|89328463500|        Paris;France|1599616589000|ee97:d7d6:4068:3f...|\n",
      "|Building data pip...|success|89328463501|        New York;USA|1590938268000|f75c:724a:378:378...|\n",
      "|Designing and imp...|success|89328463502|         Florida;USA|1596110287000|3b16:b2c0:32e0:c7...|\n",
      "|Designing and imp...|      -|89328463503|           Texas;USA|1602189313000|56c0:efbf:2ecc:67...|\n",
      "|Data quality assu...|      -|89328463504|           Texas;USA|1589042567000|99db:f6af:4b20:e7...|\n",
      "|Extracting data f...|success|89328463505|           Texas;USA|1594944197000|4d9b:5fd7:767c:c6...|\n",
      "|Optimizing databa...|success|89328463506|         Florida;USA|1607712620000|7a36:eec8:e57e:a6...|\n",
      "|     Data governance|success|89328463507|           Texas;USA|1595269124000|5f7:b36d:6e44:aa2...|\n",
      "|Data quality assu...|success|89328463508|         Tokyo;Japan|1599187261000|ab47:d1a9:b22c:f4...|\n",
      "|Loading data into...|success|89328463509|      California;USA|1596422963000|9563:6439:aa49:22...|\n",
      "|Transforming data...|success|89328463510|        Paris;France|1593468950000|ff37:2e54:5ca0:2d...|\n",
      "|Extracting data f...| failed|89328463511|         Florida;USA|1589401296000|bd6d:1f65:389f:89...|\n",
      "|     Data governance|success|89328463512|           Texas;USA|1591861517000|791c:7d56:a736:92...|\n",
      "|Data quality assu...|success|89328463513|           Texas;USA|1586969841000|f73:9467:b9bc:27b...|\n",
      "|     Data governance|success|89328463514|      California;USA|1589197038000|dd06:fb88:e4b0:c6...|\n",
      "|Optimizing databa...|success|89328463515|         Florida;USA|1603642899000|e2b:4e14:ce97:d5a...|\n",
      "|    Data integration|success|89328463516|         Florida;USA|1604324366000|af81:5a83:f68f:14...|\n",
      "+--------------------+-------+-----------+--------------------+-------------+--------------------+\n",
      "only showing top 30 rows\n",
      "\n"
     ]
    }
   ],
   "source": [
    "#examine the dataset\n",
    "log_df.show(30)"
   ],
   "metadata": {
    "collapsed": false,
    "ExecuteTime": {
     "end_time": "2023-09-09T14:22:07.574566Z",
     "start_time": "2023-09-09T14:22:07.254268Z"
    }
   }
  },
  {
   "cell_type": "code",
   "execution_count": 5,
   "outputs": [],
   "source": [
    "columns = ['task', 'status', 'trackID', 'server_region', 'timestamp', 'server']"
   ],
   "metadata": {
    "collapsed": false,
    "ExecuteTime": {
     "end_time": "2023-09-09T14:22:11.149758Z",
     "start_time": "2023-09-09T14:22:11.139049Z"
    }
   }
  },
  {
   "cell_type": "code",
   "execution_count": 6,
   "outputs": [],
   "source": [
    "log_df = log_df.withColumnsRenamed({'_c0':'task', '_c1': 'status', '_c2': 'trackID', '_c3': 'server_region', '_c4': 'timestamp', '_c5':'server'})"
   ],
   "metadata": {
    "collapsed": false,
    "ExecuteTime": {
     "end_time": "2023-09-09T14:22:14.136876Z",
     "start_time": "2023-09-09T14:22:14.118624Z"
    }
   }
  },
  {
   "cell_type": "code",
   "execution_count": 7,
   "outputs": [
    {
     "name": "stdout",
     "output_type": "stream",
     "text": [
      "+--------------------+-------+-----------+--------------------+-------------+--------------------+\n",
      "|                task| status|    trackID|       server_region|    timestamp|              server|\n",
      "+--------------------+-------+-----------+--------------------+-------------+--------------------+\n",
      "|Data quality assu...|success|89328463487|         Florida;USA|1599093305000|464f:bdbd:1d:535a...|\n",
      "|Designing and imp...|success|89328463488|      Ontario;Canada|1589218599000|1366:c314:8d40:42...|\n",
      "|Extracting data f...|success|89328463489|      California;USA|1595463446000|1ffa:cdd1:7a2b:a7...|\n",
      "|Loading data into...|success|89328463490|         Florida;USA|1605932487000|8ac5:9010:f24c:2f...|\n",
      "|Data quality assu...|success|89328463491|Queensland;Australia|1587354266000|5a7d:18ec:4650:54...|\n",
      "|Building data pip...|success|89328463492|        Paris;France|1600093768000|1480:2795:2b3a:42...|\n",
      "|Optimizing databa...|      -|89328463493|         Tokyo;Japan|1596900215000|7f2b:df86:5279:68...|\n",
      "|Data quality assu...|success|89328463494|        Paris;France|1605052256000|805a:a9ff:45ca:76...|\n",
      "|Optimizing databa...|success|89328463495|Queensland;Australia|1594313425000|25d3:9eb2:8066:4c...|\n",
      "|     Data governance|success|89328463496|Queensland;Australia|1597993211000|f57b:4c0e:26c9:f0...|\n",
      "|Building data pip...|success|89328463497|      California;USA|1602042464000|46fd:b891:e726:4f...|\n",
      "|Transforming data...|success|89328463498|         Florida;USA|1590200468000|8755:3c70:4da:ad2...|\n",
      "|Loading data into...|success|89328463499|           Texas;USA|1602613627000|4a73:ce86:e05b:48...|\n",
      "|Loading data into...|success|89328463500|        Paris;France|1599616589000|ee97:d7d6:4068:3f...|\n",
      "|Building data pip...|success|89328463501|        New York;USA|1590938268000|f75c:724a:378:378...|\n",
      "|Designing and imp...|success|89328463502|         Florida;USA|1596110287000|3b16:b2c0:32e0:c7...|\n",
      "|Designing and imp...|      -|89328463503|           Texas;USA|1602189313000|56c0:efbf:2ecc:67...|\n",
      "|Data quality assu...|      -|89328463504|           Texas;USA|1589042567000|99db:f6af:4b20:e7...|\n",
      "|Extracting data f...|success|89328463505|           Texas;USA|1594944197000|4d9b:5fd7:767c:c6...|\n",
      "|Optimizing databa...|success|89328463506|         Florida;USA|1607712620000|7a36:eec8:e57e:a6...|\n",
      "+--------------------+-------+-----------+--------------------+-------------+--------------------+\n",
      "only showing top 20 rows\n",
      "\n"
     ]
    }
   ],
   "source": [
    "log_df.show()"
   ],
   "metadata": {
    "collapsed": false,
    "ExecuteTime": {
     "end_time": "2023-09-09T14:22:15.998747Z",
     "start_time": "2023-09-09T14:22:15.841979Z"
    }
   }
  },
  {
   "cell_type": "code",
   "execution_count": 8,
   "outputs": [
    {
     "data": {
      "text/plain": "[('task', 'string'),\n ('status', 'string'),\n ('trackID', 'bigint'),\n ('server_region', 'string'),\n ('timestamp', 'bigint'),\n ('server', 'string')]"
     },
     "execution_count": 8,
     "metadata": {},
     "output_type": "execute_result"
    }
   ],
   "source": [
    "# look at the datatypes\n",
    "log_df.dtypes"
   ],
   "metadata": {
    "collapsed": false,
    "ExecuteTime": {
     "end_time": "2023-09-09T14:22:19.014354Z",
     "start_time": "2023-09-09T14:22:19.003568Z"
    }
   }
  },
  {
   "cell_type": "code",
   "execution_count": 9,
   "outputs": [
    {
     "name": "stdout",
     "output_type": "stream",
     "text": [
      "shape of the record is  1000 6\n"
     ]
    }
   ],
   "source": [
    "# obtain the shape of the file\n",
    "print(\"shape of the record is \", log_df.count(), len(log_df.columns))"
   ],
   "metadata": {
    "collapsed": false,
    "ExecuteTime": {
     "end_time": "2023-09-09T14:22:28.029930Z",
     "start_time": "2023-09-09T14:22:27.355404Z"
    }
   }
  },
  {
   "cell_type": "code",
   "execution_count": 10,
   "outputs": [
    {
     "name": "stdout",
     "output_type": "stream",
     "text": [
      "root\n",
      " |-- task: string (nullable = true)\n",
      " |-- status: string (nullable = true)\n",
      " |-- trackID: long (nullable = true)\n",
      " |-- server_region: string (nullable = true)\n",
      " |-- timestamp: long (nullable = true)\n",
      " |-- server: string (nullable = true)\n",
      "\n"
     ]
    }
   ],
   "source": [
    "log_df.printSchema()"
   ],
   "metadata": {
    "collapsed": false,
    "ExecuteTime": {
     "end_time": "2023-09-09T14:22:31.358543Z",
     "start_time": "2023-09-09T14:22:31.344001Z"
    }
   }
  },
  {
   "cell_type": "code",
   "execution_count": 11,
   "outputs": [],
   "source": [
    "from pyspark.sql import functions as fn"
   ],
   "metadata": {
    "collapsed": false,
    "ExecuteTime": {
     "end_time": "2023-09-09T14:22:35.203336Z",
     "start_time": "2023-09-09T14:22:35.190601Z"
    }
   }
  },
  {
   "cell_type": "code",
   "execution_count": 12,
   "outputs": [
    {
     "name": "stdout",
     "output_type": "stream",
     "text": [
      "+----+------+-------+-------------+---------+------+\n",
      "|task|status|trackID|server_region|timestamp|server|\n",
      "+----+------+-------+-------------+---------+------+\n",
      "|   0|     0|      0|            0|        0|     0|\n",
      "+----+------+-------+-------------+---------+------+\n",
      "\n"
     ]
    }
   ],
   "source": [
    "log_df.select([fn.count(fn.when(fn.col(column).isNull(), column)).alias(column) for column in columns]).show()"
   ],
   "metadata": {
    "collapsed": false,
    "ExecuteTime": {
     "end_time": "2023-09-09T14:22:37.006384Z",
     "start_time": "2023-09-09T14:22:36.523551Z"
    }
   }
  },
  {
   "cell_type": "markdown",
   "source": [
    "# Cleaning and transformation"
   ],
   "metadata": {
    "collapsed": false
   }
  },
  {
   "cell_type": "code",
   "execution_count": 13,
   "outputs": [],
   "source": [
    "# the columns have been renamed\n",
    "#split the server_region column\n"
   ],
   "metadata": {
    "collapsed": false,
    "ExecuteTime": {
     "end_time": "2023-09-09T00:32:47.749177Z",
     "start_time": "2023-09-09T00:32:47.741623Z"
    }
   }
  },
  {
   "cell_type": "code",
   "execution_count": 13,
   "outputs": [],
   "source": [
    "#split the server_region column\n",
    "# define split\n",
    "split_cols = fn.split(log_df['server_region'], ';')"
   ],
   "metadata": {
    "collapsed": false,
    "ExecuteTime": {
     "end_time": "2023-09-09T14:22:50.091135Z",
     "start_time": "2023-09-09T14:22:50.080977Z"
    }
   }
  },
  {
   "cell_type": "code",
   "execution_count": 14,
   "outputs": [],
   "source": [
    "#applying split() using select()\n",
    "new_log_df = log_df.select('task', 'status', 'trackID', 'server_region', 'timestamp', 'server',\n",
    "                           split_cols.getItem(0).alias('state'),\n",
    "                           split_cols.getItem(1).alias('country'))"
   ],
   "metadata": {
    "collapsed": false,
    "ExecuteTime": {
     "end_time": "2023-09-09T14:22:52.056039Z",
     "start_time": "2023-09-09T14:22:52.011283Z"
    }
   }
  },
  {
   "cell_type": "code",
   "execution_count": 15,
   "outputs": [
    {
     "name": "stdout",
     "output_type": "stream",
     "text": [
      "+--------------------+-------+-----------+--------------------+-------------+--------------------+----------+---------+\n",
      "|                task| status|    trackID|       server_region|    timestamp|              server|     state|  country|\n",
      "+--------------------+-------+-----------+--------------------+-------------+--------------------+----------+---------+\n",
      "|Data quality assu...|success|89328463487|         Florida;USA|1599093305000|464f:bdbd:1d:535a...|   Florida|      USA|\n",
      "|Designing and imp...|success|89328463488|      Ontario;Canada|1589218599000|1366:c314:8d40:42...|   Ontario|   Canada|\n",
      "|Extracting data f...|success|89328463489|      California;USA|1595463446000|1ffa:cdd1:7a2b:a7...|California|      USA|\n",
      "|Loading data into...|success|89328463490|         Florida;USA|1605932487000|8ac5:9010:f24c:2f...|   Florida|      USA|\n",
      "|Data quality assu...|success|89328463491|Queensland;Australia|1587354266000|5a7d:18ec:4650:54...|Queensland|Australia|\n",
      "|Building data pip...|success|89328463492|        Paris;France|1600093768000|1480:2795:2b3a:42...|     Paris|   France|\n",
      "|Optimizing databa...|      -|89328463493|         Tokyo;Japan|1596900215000|7f2b:df86:5279:68...|     Tokyo|    Japan|\n",
      "|Data quality assu...|success|89328463494|        Paris;France|1605052256000|805a:a9ff:45ca:76...|     Paris|   France|\n",
      "|Optimizing databa...|success|89328463495|Queensland;Australia|1594313425000|25d3:9eb2:8066:4c...|Queensland|Australia|\n",
      "|     Data governance|success|89328463496|Queensland;Australia|1597993211000|f57b:4c0e:26c9:f0...|Queensland|Australia|\n",
      "|Building data pip...|success|89328463497|      California;USA|1602042464000|46fd:b891:e726:4f...|California|      USA|\n",
      "|Transforming data...|success|89328463498|         Florida;USA|1590200468000|8755:3c70:4da:ad2...|   Florida|      USA|\n",
      "|Loading data into...|success|89328463499|           Texas;USA|1602613627000|4a73:ce86:e05b:48...|     Texas|      USA|\n",
      "|Loading data into...|success|89328463500|        Paris;France|1599616589000|ee97:d7d6:4068:3f...|     Paris|   France|\n",
      "|Building data pip...|success|89328463501|        New York;USA|1590938268000|f75c:724a:378:378...|  New York|      USA|\n",
      "|Designing and imp...|success|89328463502|         Florida;USA|1596110287000|3b16:b2c0:32e0:c7...|   Florida|      USA|\n",
      "|Designing and imp...|      -|89328463503|           Texas;USA|1602189313000|56c0:efbf:2ecc:67...|     Texas|      USA|\n",
      "|Data quality assu...|      -|89328463504|           Texas;USA|1589042567000|99db:f6af:4b20:e7...|     Texas|      USA|\n",
      "|Extracting data f...|success|89328463505|           Texas;USA|1594944197000|4d9b:5fd7:767c:c6...|     Texas|      USA|\n",
      "|Optimizing databa...|success|89328463506|         Florida;USA|1607712620000|7a36:eec8:e57e:a6...|   Florida|      USA|\n",
      "+--------------------+-------+-----------+--------------------+-------------+--------------------+----------+---------+\n",
      "only showing top 20 rows\n",
      "\n"
     ]
    }
   ],
   "source": [
    "new_log_df.show()"
   ],
   "metadata": {
    "collapsed": false,
    "ExecuteTime": {
     "end_time": "2023-09-09T14:22:53.595544Z",
     "start_time": "2023-09-09T14:22:53.410497Z"
    }
   }
  },
  {
   "cell_type": "code",
   "execution_count": 16,
   "outputs": [],
   "source": [
    "from pyspark.sql import types as dtypes"
   ],
   "metadata": {
    "collapsed": false,
    "ExecuteTime": {
     "end_time": "2023-09-09T14:22:59.257385Z",
     "start_time": "2023-09-09T14:22:59.246046Z"
    }
   }
  },
  {
   "cell_type": "code",
   "execution_count": 17,
   "outputs": [],
   "source": [
    "# convert the timestamp\n",
    "new_log_df = new_log_df\\\n",
    "    .withColumn('time_stamp', fn.from_unixtime(fn.col('timestamp')/1000, 'yyyy-MM-dd HH:mm:ss'))\\\n",
    "        .withColumn('time_stamp', fn.col('time_stamp').cast(dtypes.TimestampType()))"
   ],
   "metadata": {
    "collapsed": false,
    "ExecuteTime": {
     "end_time": "2023-09-09T14:23:00.387070Z",
     "start_time": "2023-09-09T14:23:00.320057Z"
    }
   }
  },
  {
   "cell_type": "code",
   "execution_count": 18,
   "outputs": [
    {
     "name": "stdout",
     "output_type": "stream",
     "text": [
      "+---------------------------------------+-------+-----------+--------------------+-------------+---------------------------------------+----------+---------+-------------------+\n",
      "|task                                   |status |trackID    |server_region       |timestamp    |server                                 |state     |country  |time_stamp         |\n",
      "+---------------------------------------+-------+-----------+--------------------+-------------+---------------------------------------+----------+---------+-------------------+\n",
      "|Data quality assurance                 |success|89328463487|Florida;USA         |1599093305000|464f:bdbd:1d:535a:2dad:5117:a92f:b359  |Florida   |USA      |2020-09-02 18:35:05|\n",
      "|Designing and implementing data models |success|89328463488|Ontario;Canada      |1589218599000|1366:c314:8d40:4219:4a51:138f:7ce3:d244|Ontario   |Canada   |2020-05-11 11:36:39|\n",
      "|Extracting data from various sources   |success|89328463489|California;USA      |1595463446000|1ffa:cdd1:7a2b:a7d8:ab00:eada:94b3:7a7c|California|USA      |2020-07-22 18:17:26|\n",
      "|Loading data into a data warehouse     |success|89328463490|Florida;USA         |1605932487000|8ac5:9010:f24c:2f06:4679:aaec:a737:f003|Florida   |USA      |2020-11-20 22:21:27|\n",
      "|Data quality assurance                 |success|89328463491|Queensland;Australia|1587354266000|5a7d:18ec:4650:5421:185c:4fa0:2e86:6643|Queensland|Australia|2020-04-19 21:44:26|\n",
      "|Building data pipelines                |success|89328463492|Paris;France        |1600093768000|1480:2795:2b3a:428e:1023:fa04:586c:90b1|Paris     |France   |2020-09-14 08:29:28|\n",
      "|Optimizing database performance        |-      |89328463493|Tokyo;Japan         |1596900215000|7f2b:df86:5279:687d:2f43:9cbe:d291:8125|Tokyo     |Japan    |2020-08-08 09:23:35|\n",
      "|Data quality assurance                 |success|89328463494|Paris;France        |1605052256000|805a:a9ff:45ca:7672:6737:68cc:6f2d:4bd2|Paris     |France   |2020-11-10 17:50:56|\n",
      "|Optimizing database performance        |success|89328463495|Queensland;Australia|1594313425000|25d3:9eb2:8066:4cb:3f84:13d5:ab0f:9e3  |Queensland|Australia|2020-07-09 10:50:25|\n",
      "|Data governance                        |success|89328463496|Queensland;Australia|1597993211000|f57b:4c0e:26c9:f04d:74a9:16b7:2b02:a063|Queensland|Australia|2020-08-21 01:00:11|\n",
      "|Building data pipelines                |success|89328463497|California;USA      |1602042464000|46fd:b891:e726:4f51:ff1f:8489:a823:84dc|California|USA      |2020-10-06 21:47:44|\n",
      "|Transforming data into a unified format|success|89328463498|Florida;USA         |1590200468000|8755:3c70:4da:ad2a:a23d:8e9b:1a3b:e9bf |Florida   |USA      |2020-05-22 20:21:08|\n",
      "|Loading data into a data warehouse     |success|89328463499|Texas;USA           |1602613627000|4a73:ce86:e05b:48a6:2235:f676:d4ea:25d |Texas     |USA      |2020-10-13 12:27:07|\n",
      "|Loading data into a data warehouse     |success|89328463500|Paris;France        |1599616589000|ee97:d7d6:4068:3f6e:f8e9:7cf1:8850:5f3e|Paris     |France   |2020-09-08 19:56:29|\n",
      "|Building data pipelines                |success|89328463501|New York;USA        |1590938268000|f75c:724a:378:3787:b8a2:e9b7:55f4:4b0b |New York  |USA      |2020-05-31 09:17:48|\n",
      "|Designing and implementing data models |success|89328463502|Florida;USA         |1596110287000|3b16:b2c0:32e0:c7fa:e4e4:4035:4954:1925|Florida   |USA      |2020-07-30 05:58:07|\n",
      "|Designing and implementing data models |-      |89328463503|Texas;USA           |1602189313000|56c0:efbf:2ecc:67b6:61c:2fa6:7b12:2e12 |Texas     |USA      |2020-10-08 14:35:13|\n",
      "|Data quality assurance                 |-      |89328463504|Texas;USA           |1589042567000|99db:f6af:4b20:e70d:3f70:a3a7:1750:dd48|Texas     |USA      |2020-05-09 10:42:47|\n",
      "|Extracting data from various sources   |success|89328463505|Texas;USA           |1594944197000|4d9b:5fd7:767c:c61b:5b8e:a027:4de6:fa64|Texas     |USA      |2020-07-16 18:03:17|\n",
      "|Optimizing database performance        |success|89328463506|Florida;USA         |1607712620000|7a36:eec8:e57e:a6:90a0:827f:3e16:1544  |Florida   |USA      |2020-12-11 12:50:20|\n",
      "+---------------------------------------+-------+-----------+--------------------+-------------+---------------------------------------+----------+---------+-------------------+\n",
      "only showing top 20 rows\n",
      "\n"
     ]
    }
   ],
   "source": [
    "new_log_df.show(truncate=False)"
   ],
   "metadata": {
    "collapsed": false,
    "ExecuteTime": {
     "end_time": "2023-09-09T14:23:01.979137Z",
     "start_time": "2023-09-09T14:23:01.792621Z"
    }
   }
  },
  {
   "cell_type": "code",
   "execution_count": 19,
   "outputs": [
    {
     "data": {
      "text/plain": "[('task', 'string'),\n ('status', 'string'),\n ('trackID', 'bigint'),\n ('server_region', 'string'),\n ('timestamp', 'bigint'),\n ('server', 'string'),\n ('state', 'string'),\n ('country', 'string'),\n ('time_stamp', 'timestamp')]"
     },
     "execution_count": 19,
     "metadata": {},
     "output_type": "execute_result"
    }
   ],
   "source": [
    "new_log_df.dtypes"
   ],
   "metadata": {
    "collapsed": false,
    "ExecuteTime": {
     "end_time": "2023-09-09T14:23:08.685802Z",
     "start_time": "2023-09-09T14:23:08.675959Z"
    }
   }
  },
  {
   "cell_type": "markdown",
   "source": [
    "# carrying out analysis for the Data Engineer"
   ],
   "metadata": {
    "collapsed": false
   }
  },
  {
   "cell_type": "code",
   "execution_count": 20,
   "outputs": [
    {
     "name": "stdout",
     "output_type": "stream",
     "text": [
      "+---------+-----+\n",
      "|  country|count|\n",
      "+---------+-----+\n",
      "|   France|  124|\n",
      "|      USA|  491|\n",
      "|   Canada|  124|\n",
      "|    Japan|  133|\n",
      "|Australia|  128|\n",
      "+---------+-----+\n",
      "\n"
     ]
    }
   ],
   "source": [
    "#retrieving the number of countries\n",
    "new_log_df2 = new_log_df.groupBy('country').count()\n",
    "new_log_df2.show()"
   ],
   "metadata": {
    "collapsed": false,
    "ExecuteTime": {
     "end_time": "2023-09-09T14:23:11.663769Z",
     "start_time": "2023-09-09T14:23:11.174243Z"
    }
   }
  },
  {
   "cell_type": "code",
   "execution_count": 21,
   "outputs": [],
   "source": [
    "# states in each country where the tasks are carried out\n",
    "new_log_df3 = new_log_df.groupBy('country', 'state').count().orderBy(fn.col('count').desc())"
   ],
   "metadata": {
    "collapsed": false,
    "ExecuteTime": {
     "end_time": "2023-09-09T14:23:17.565399Z",
     "start_time": "2023-09-09T14:23:17.477280Z"
    }
   }
  },
  {
   "cell_type": "code",
   "execution_count": 22,
   "outputs": [
    {
     "name": "stdout",
     "output_type": "stream",
     "text": [
      "+---------+----------+-----+\n",
      "|  country|     state|count|\n",
      "+---------+----------+-----+\n",
      "|      USA|  New York|  145|\n",
      "|      USA|   Florida|  136|\n",
      "|    Japan|     Tokyo|  133|\n",
      "|Australia|Queensland|  128|\n",
      "|   Canada|   Ontario|  124|\n",
      "|   France|     Paris|  124|\n",
      "|      USA|     Texas|  114|\n",
      "|      USA|California|   96|\n",
      "+---------+----------+-----+\n",
      "\n"
     ]
    }
   ],
   "source": [
    "new_log_df3.show()"
   ],
   "metadata": {
    "collapsed": false,
    "ExecuteTime": {
     "end_time": "2023-09-09T14:23:19.140768Z",
     "start_time": "2023-09-09T14:23:18.675566Z"
    }
   }
  },
  {
   "cell_type": "code",
   "execution_count": 23,
   "outputs": [],
   "source": [
    "# task frequently carried out in each country\n",
    "new_log_df4 = new_log_df.groupBy('task', 'country').count().orderBy(['country', 'count'], ascending=False)"
   ],
   "metadata": {
    "collapsed": false,
    "ExecuteTime": {
     "end_time": "2023-09-09T14:23:20.640294Z",
     "start_time": "2023-09-09T14:23:20.599677Z"
    }
   }
  },
  {
   "cell_type": "code",
   "execution_count": 24,
   "outputs": [
    {
     "name": "stdout",
     "output_type": "stream",
     "text": [
      "+---------------------------------------+---------+-----+\n",
      "|task                                   |country  |count|\n",
      "+---------------------------------------+---------+-----+\n",
      "|Extracting data from various sources   |USA      |98   |\n",
      "|Loading data into a data warehouse     |USA      |58   |\n",
      "|Data quality assurance                 |USA      |57   |\n",
      "|Transforming data into a unified format|USA      |52   |\n",
      "|Data governance                        |USA      |49   |\n",
      "|Optimizing database performance        |USA      |49   |\n",
      "|Building data pipelines                |USA      |47   |\n",
      "|Designing and implementing data models |USA      |42   |\n",
      "|Data integration                       |USA      |39   |\n",
      "|Extracting data from various sources   |Japan    |25   |\n",
      "|Data governance                        |Japan    |18   |\n",
      "|Data quality assurance                 |Japan    |16   |\n",
      "|Transforming data into a unified format|Japan    |15   |\n",
      "|Building data pipelines                |Japan    |14   |\n",
      "|Data integration                       |Japan    |14   |\n",
      "|Designing and implementing data models |Japan    |13   |\n",
      "|Loading data into a data warehouse     |Japan    |12   |\n",
      "|Optimizing database performance        |Japan    |6    |\n",
      "|Extracting data from various sources   |France   |23   |\n",
      "|Building data pipelines                |France   |21   |\n",
      "|Data governance                        |France   |17   |\n",
      "|Transforming data into a unified format|France   |15   |\n",
      "|Data quality assurance                 |France   |14   |\n",
      "|Data integration                       |France   |11   |\n",
      "|Loading data into a data warehouse     |France   |10   |\n",
      "|Optimizing database performance        |France   |7    |\n",
      "|Designing and implementing data models |France   |6    |\n",
      "|Extracting data from various sources   |Canada   |26   |\n",
      "|Data integration                       |Canada   |19   |\n",
      "|Data governance                        |Canada   |16   |\n",
      "|Data quality assurance                 |Canada   |16   |\n",
      "|Loading data into a data warehouse     |Canada   |12   |\n",
      "|Optimizing database performance        |Canada   |10   |\n",
      "|Transforming data into a unified format|Canada   |10   |\n",
      "|Designing and implementing data models |Canada   |8    |\n",
      "|Building data pipelines                |Canada   |7    |\n",
      "|Extracting data from various sources   |Australia|29   |\n",
      "|Data integration                       |Australia|17   |\n",
      "|Data governance                        |Australia|16   |\n",
      "|Loading data into a data warehouse     |Australia|14   |\n",
      "|Building data pipelines                |Australia|13   |\n",
      "|Optimizing database performance        |Australia|11   |\n",
      "|Designing and implementing data models |Australia|10   |\n",
      "|Transforming data into a unified format|Australia|10   |\n",
      "|Data quality assurance                 |Australia|8    |\n",
      "+---------------------------------------+---------+-----+\n",
      "\n"
     ]
    }
   ],
   "source": [
    "new_log_df4.show(50, truncate=False)"
   ],
   "metadata": {
    "collapsed": false,
    "ExecuteTime": {
     "end_time": "2023-09-09T14:23:26.516162Z",
     "start_time": "2023-09-09T14:23:26.168344Z"
    }
   }
  },
  {
   "cell_type": "code",
   "execution_count": 25,
   "outputs": [],
   "source": [
    "#performance of each task\n",
    "new_log_df5 = new_log_df.groupBy('task', 'status').count().orderBy(['status', 'count'], ascending=False)"
   ],
   "metadata": {
    "collapsed": false,
    "ExecuteTime": {
     "end_time": "2023-09-09T14:23:33.024283Z",
     "start_time": "2023-09-09T14:23:32.986389Z"
    }
   }
  },
  {
   "cell_type": "code",
   "execution_count": 26,
   "outputs": [
    {
     "name": "stdout",
     "output_type": "stream",
     "text": [
      "+---------------------------------------+-------+-----+\n",
      "|task                                   |status |count|\n",
      "+---------------------------------------+-------+-----+\n",
      "|Extracting data from various sources   |success|150  |\n",
      "|Data governance                        |success|90   |\n",
      "|Loading data into a data warehouse     |success|90   |\n",
      "|Data quality assurance                 |success|87   |\n",
      "|Building data pipelines                |success|76   |\n",
      "|Transforming data into a unified format|success|76   |\n",
      "|Data integration                       |success|74   |\n",
      "|Optimizing database performance        |success|66   |\n",
      "|Designing and implementing data models |success|57   |\n",
      "|Extracting data from various sources   |failed |31   |\n",
      "|Building data pipelines                |failed |13   |\n",
      "|Data quality assurance                 |failed |13   |\n",
      "|Transforming data into a unified format|failed |13   |\n",
      "|Data governance                        |failed |13   |\n",
      "|Designing and implementing data models |failed |10   |\n",
      "|Loading data into a data warehouse     |failed |10   |\n",
      "|Data integration                       |failed |10   |\n",
      "|Optimizing database performance        |failed |8    |\n",
      "|Extracting data from various sources   |-      |20   |\n",
      "|Data integration                       |-      |16   |\n",
      "|Transforming data into a unified format|-      |13   |\n",
      "|Building data pipelines                |-      |13   |\n",
      "|Data governance                        |-      |13   |\n",
      "|Designing and implementing data models |-      |12   |\n",
      "+---------------------------------------+-------+-----+\n",
      "only showing top 24 rows\n",
      "\n"
     ]
    }
   ],
   "source": [
    "new_log_df5.show(24, truncate=False)"
   ],
   "metadata": {
    "collapsed": false,
    "ExecuteTime": {
     "end_time": "2023-09-09T14:23:33.891724Z",
     "start_time": "2023-09-09T14:23:33.617986Z"
    }
   }
  },
  {
   "cell_type": "code",
   "execution_count": 27,
   "outputs": [
    {
     "name": "stdout",
     "output_type": "stream",
     "text": [
      "+--------------------+-------+-----------+--------------------+-------------+--------------------+----------+---------+-------------------+\n",
      "|                task| status|    trackID|       server_region|    timestamp|              server|     state|  country|         time_stamp|\n",
      "+--------------------+-------+-----------+--------------------+-------------+--------------------+----------+---------+-------------------+\n",
      "|Data quality assu...|success|89328463487|         Florida;USA|1599093305000|464f:bdbd:1d:535a...|   Florida|      USA|2020-09-02 18:35:05|\n",
      "|Designing and imp...|success|89328463488|      Ontario;Canada|1589218599000|1366:c314:8d40:42...|   Ontario|   Canada|2020-05-11 11:36:39|\n",
      "|Extracting data f...|success|89328463489|      California;USA|1595463446000|1ffa:cdd1:7a2b:a7...|California|      USA|2020-07-22 18:17:26|\n",
      "|Loading data into...|success|89328463490|         Florida;USA|1605932487000|8ac5:9010:f24c:2f...|   Florida|      USA|2020-11-20 22:21:27|\n",
      "|Data quality assu...|success|89328463491|Queensland;Australia|1587354266000|5a7d:18ec:4650:54...|Queensland|Australia|2020-04-19 21:44:26|\n",
      "|Building data pip...|success|89328463492|        Paris;France|1600093768000|1480:2795:2b3a:42...|     Paris|   France|2020-09-14 08:29:28|\n",
      "|Optimizing databa...|      -|89328463493|         Tokyo;Japan|1596900215000|7f2b:df86:5279:68...|     Tokyo|    Japan|2020-08-08 09:23:35|\n",
      "|Data quality assu...|success|89328463494|        Paris;France|1605052256000|805a:a9ff:45ca:76...|     Paris|   France|2020-11-10 17:50:56|\n",
      "|Optimizing databa...|success|89328463495|Queensland;Australia|1594313425000|25d3:9eb2:8066:4c...|Queensland|Australia|2020-07-09 10:50:25|\n",
      "|     Data governance|success|89328463496|Queensland;Australia|1597993211000|f57b:4c0e:26c9:f0...|Queensland|Australia|2020-08-21 01:00:11|\n",
      "|Building data pip...|success|89328463497|      California;USA|1602042464000|46fd:b891:e726:4f...|California|      USA|2020-10-06 21:47:44|\n",
      "|Transforming data...|success|89328463498|         Florida;USA|1590200468000|8755:3c70:4da:ad2...|   Florida|      USA|2020-05-22 20:21:08|\n",
      "|Loading data into...|success|89328463499|           Texas;USA|1602613627000|4a73:ce86:e05b:48...|     Texas|      USA|2020-10-13 12:27:07|\n",
      "|Loading data into...|success|89328463500|        Paris;France|1599616589000|ee97:d7d6:4068:3f...|     Paris|   France|2020-09-08 19:56:29|\n",
      "|Building data pip...|success|89328463501|        New York;USA|1590938268000|f75c:724a:378:378...|  New York|      USA|2020-05-31 09:17:48|\n",
      "|Designing and imp...|success|89328463502|         Florida;USA|1596110287000|3b16:b2c0:32e0:c7...|   Florida|      USA|2020-07-30 05:58:07|\n",
      "|Designing and imp...|      -|89328463503|           Texas;USA|1602189313000|56c0:efbf:2ecc:67...|     Texas|      USA|2020-10-08 14:35:13|\n",
      "|Data quality assu...|      -|89328463504|           Texas;USA|1589042567000|99db:f6af:4b20:e7...|     Texas|      USA|2020-05-09 10:42:47|\n",
      "|Extracting data f...|success|89328463505|           Texas;USA|1594944197000|4d9b:5fd7:767c:c6...|     Texas|      USA|2020-07-16 18:03:17|\n",
      "|Optimizing databa...|success|89328463506|         Florida;USA|1607712620000|7a36:eec8:e57e:a6...|   Florida|      USA|2020-12-11 12:50:20|\n",
      "+--------------------+-------+-----------+--------------------+-------------+--------------------+----------+---------+-------------------+\n",
      "only showing top 20 rows\n",
      "\n"
     ]
    }
   ],
   "source": [
    "new_log_df.show()"
   ],
   "metadata": {
    "collapsed": false,
    "ExecuteTime": {
     "end_time": "2023-09-09T14:23:35.112975Z",
     "start_time": "2023-09-09T14:23:35.016144Z"
    }
   }
  },
  {
   "cell_type": "code",
   "execution_count": 28,
   "outputs": [],
   "source": [
    "reordered_columns = ['task', 'status', 'trackID', 'server', 'state', 'country', 'time_stamp']\n",
    "changed_log_df = new_log_df.select(reordered_columns)"
   ],
   "metadata": {
    "collapsed": false,
    "ExecuteTime": {
     "end_time": "2023-09-09T14:26:31.466898Z",
     "start_time": "2023-09-09T14:26:31.432801Z"
    }
   }
  },
  {
   "cell_type": "code",
   "execution_count": 30,
   "outputs": [
    {
     "name": "stdout",
     "output_type": "stream",
     "text": [
      "+---------------------------------------+-------+-----------+---------------------------------------+----------+---------+-------------------+\n",
      "|task                                   |status |trackID    |server                                 |state     |country  |time_stamp         |\n",
      "+---------------------------------------+-------+-----------+---------------------------------------+----------+---------+-------------------+\n",
      "|Data quality assurance                 |success|89328463487|464f:bdbd:1d:535a:2dad:5117:a92f:b359  |Florida   |USA      |2020-09-02 18:35:05|\n",
      "|Designing and implementing data models |success|89328463488|1366:c314:8d40:4219:4a51:138f:7ce3:d244|Ontario   |Canada   |2020-05-11 11:36:39|\n",
      "|Extracting data from various sources   |success|89328463489|1ffa:cdd1:7a2b:a7d8:ab00:eada:94b3:7a7c|California|USA      |2020-07-22 18:17:26|\n",
      "|Loading data into a data warehouse     |success|89328463490|8ac5:9010:f24c:2f06:4679:aaec:a737:f003|Florida   |USA      |2020-11-20 22:21:27|\n",
      "|Data quality assurance                 |success|89328463491|5a7d:18ec:4650:5421:185c:4fa0:2e86:6643|Queensland|Australia|2020-04-19 21:44:26|\n",
      "|Building data pipelines                |success|89328463492|1480:2795:2b3a:428e:1023:fa04:586c:90b1|Paris     |France   |2020-09-14 08:29:28|\n",
      "|Optimizing database performance        |-      |89328463493|7f2b:df86:5279:687d:2f43:9cbe:d291:8125|Tokyo     |Japan    |2020-08-08 09:23:35|\n",
      "|Data quality assurance                 |success|89328463494|805a:a9ff:45ca:7672:6737:68cc:6f2d:4bd2|Paris     |France   |2020-11-10 17:50:56|\n",
      "|Optimizing database performance        |success|89328463495|25d3:9eb2:8066:4cb:3f84:13d5:ab0f:9e3  |Queensland|Australia|2020-07-09 10:50:25|\n",
      "|Data governance                        |success|89328463496|f57b:4c0e:26c9:f04d:74a9:16b7:2b02:a063|Queensland|Australia|2020-08-21 01:00:11|\n",
      "|Building data pipelines                |success|89328463497|46fd:b891:e726:4f51:ff1f:8489:a823:84dc|California|USA      |2020-10-06 21:47:44|\n",
      "|Transforming data into a unified format|success|89328463498|8755:3c70:4da:ad2a:a23d:8e9b:1a3b:e9bf |Florida   |USA      |2020-05-22 20:21:08|\n",
      "|Loading data into a data warehouse     |success|89328463499|4a73:ce86:e05b:48a6:2235:f676:d4ea:25d |Texas     |USA      |2020-10-13 12:27:07|\n",
      "|Loading data into a data warehouse     |success|89328463500|ee97:d7d6:4068:3f6e:f8e9:7cf1:8850:5f3e|Paris     |France   |2020-09-08 19:56:29|\n",
      "|Building data pipelines                |success|89328463501|f75c:724a:378:3787:b8a2:e9b7:55f4:4b0b |New York  |USA      |2020-05-31 09:17:48|\n",
      "|Designing and implementing data models |success|89328463502|3b16:b2c0:32e0:c7fa:e4e4:4035:4954:1925|Florida   |USA      |2020-07-30 05:58:07|\n",
      "|Designing and implementing data models |-      |89328463503|56c0:efbf:2ecc:67b6:61c:2fa6:7b12:2e12 |Texas     |USA      |2020-10-08 14:35:13|\n",
      "|Data quality assurance                 |-      |89328463504|99db:f6af:4b20:e70d:3f70:a3a7:1750:dd48|Texas     |USA      |2020-05-09 10:42:47|\n",
      "|Extracting data from various sources   |success|89328463505|4d9b:5fd7:767c:c61b:5b8e:a027:4de6:fa64|Texas     |USA      |2020-07-16 18:03:17|\n",
      "|Optimizing database performance        |success|89328463506|7a36:eec8:e57e:a6:90a0:827f:3e16:1544  |Florida   |USA      |2020-12-11 12:50:20|\n",
      "+---------------------------------------+-------+-----------+---------------------------------------+----------+---------+-------------------+\n",
      "only showing top 20 rows\n",
      "\n"
     ]
    }
   ],
   "source": [
    "changed_log_df.show(truncate=False)"
   ],
   "metadata": {
    "collapsed": false,
    "ExecuteTime": {
     "end_time": "2023-09-09T14:27:05.232837Z",
     "start_time": "2023-09-09T14:27:05.047617Z"
    }
   }
  },
  {
   "cell_type": "code",
   "execution_count": null,
   "outputs": [],
   "source": [],
   "metadata": {
    "collapsed": false
   }
  }
 ],
 "metadata": {
  "kernelspec": {
   "display_name": "Python 3",
   "language": "python",
   "name": "python3"
  },
  "language_info": {
   "codemirror_mode": {
    "name": "ipython",
    "version": 2
   },
   "file_extension": ".py",
   "mimetype": "text/x-python",
   "name": "python",
   "nbconvert_exporter": "python",
   "pygments_lexer": "ipython2",
   "version": "2.7.6"
  }
 },
 "nbformat": 4,
 "nbformat_minor": 0
}
